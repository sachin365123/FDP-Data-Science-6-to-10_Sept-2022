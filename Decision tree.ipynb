{
 "cells": [
  {
   "cell_type": "markdown",
   "metadata": {},
   "source": [
    "##  Decision Tree Classifier"
   ]
  },
  {
   "cell_type": "code",
   "execution_count": 1,
   "metadata": {},
   "outputs": [],
   "source": [
    "# Load libraries\n",
    "import pandas as pd\n",
    "from sklearn.tree import DecisionTreeClassifier # Import Decision Tree Classifier\n",
    "from sklearn.model_selection import train_test_split # Import train_test_split function\n",
    "from sklearn import metrics #Import scikit-learn metrics module for accuracy calculation\n",
    "from sklearn.tree import plot_tree"
   ]
  },
  {
   "cell_type": "code",
   "execution_count": null,
   "metadata": {},
   "outputs": [],
   "source": []
  },
  {
   "cell_type": "code",
   "execution_count": 2,
   "metadata": {},
   "outputs": [
    {
     "data": {
      "text/html": [
       "<div>\n",
       "<style scoped>\n",
       "    .dataframe tbody tr th:only-of-type {\n",
       "        vertical-align: middle;\n",
       "    }\n",
       "\n",
       "    .dataframe tbody tr th {\n",
       "        vertical-align: top;\n",
       "    }\n",
       "\n",
       "    .dataframe thead th {\n",
       "        text-align: right;\n",
       "    }\n",
       "</style>\n",
       "<table border=\"1\" class=\"dataframe\">\n",
       "  <thead>\n",
       "    <tr style=\"text-align: right;\">\n",
       "      <th></th>\n",
       "      <th>Pregnancies</th>\n",
       "      <th>Glucose</th>\n",
       "      <th>BloodPressure</th>\n",
       "      <th>SkinThickness</th>\n",
       "      <th>Insulin</th>\n",
       "      <th>BMI</th>\n",
       "      <th>DiabetesPedigreeFunction</th>\n",
       "      <th>Age</th>\n",
       "      <th>Outcome</th>\n",
       "    </tr>\n",
       "  </thead>\n",
       "  <tbody>\n",
       "    <tr>\n",
       "      <th>0</th>\n",
       "      <td>6</td>\n",
       "      <td>148</td>\n",
       "      <td>72</td>\n",
       "      <td>35</td>\n",
       "      <td>0</td>\n",
       "      <td>33.6</td>\n",
       "      <td>0.627</td>\n",
       "      <td>50</td>\n",
       "      <td>1</td>\n",
       "    </tr>\n",
       "    <tr>\n",
       "      <th>1</th>\n",
       "      <td>1</td>\n",
       "      <td>85</td>\n",
       "      <td>66</td>\n",
       "      <td>29</td>\n",
       "      <td>0</td>\n",
       "      <td>26.6</td>\n",
       "      <td>0.351</td>\n",
       "      <td>31</td>\n",
       "      <td>0</td>\n",
       "    </tr>\n",
       "    <tr>\n",
       "      <th>2</th>\n",
       "      <td>8</td>\n",
       "      <td>183</td>\n",
       "      <td>64</td>\n",
       "      <td>0</td>\n",
       "      <td>0</td>\n",
       "      <td>23.3</td>\n",
       "      <td>0.672</td>\n",
       "      <td>32</td>\n",
       "      <td>1</td>\n",
       "    </tr>\n",
       "    <tr>\n",
       "      <th>3</th>\n",
       "      <td>1</td>\n",
       "      <td>89</td>\n",
       "      <td>66</td>\n",
       "      <td>23</td>\n",
       "      <td>94</td>\n",
       "      <td>28.1</td>\n",
       "      <td>0.167</td>\n",
       "      <td>21</td>\n",
       "      <td>0</td>\n",
       "    </tr>\n",
       "    <tr>\n",
       "      <th>4</th>\n",
       "      <td>0</td>\n",
       "      <td>137</td>\n",
       "      <td>40</td>\n",
       "      <td>35</td>\n",
       "      <td>168</td>\n",
       "      <td>43.1</td>\n",
       "      <td>2.288</td>\n",
       "      <td>33</td>\n",
       "      <td>1</td>\n",
       "    </tr>\n",
       "  </tbody>\n",
       "</table>\n",
       "</div>"
      ],
      "text/plain": [
       "   Pregnancies  Glucose  BloodPressure  SkinThickness  Insulin   BMI  \\\n",
       "0            6      148             72             35        0  33.6   \n",
       "1            1       85             66             29        0  26.6   \n",
       "2            8      183             64              0        0  23.3   \n",
       "3            1       89             66             23       94  28.1   \n",
       "4            0      137             40             35      168  43.1   \n",
       "\n",
       "   DiabetesPedigreeFunction  Age  Outcome  \n",
       "0                     0.627   50        1  \n",
       "1                     0.351   31        0  \n",
       "2                     0.672   32        1  \n",
       "3                     0.167   21        0  \n",
       "4                     2.288   33        1  "
      ]
     },
     "execution_count": 2,
     "metadata": {},
     "output_type": "execute_result"
    }
   ],
   "source": [
    "# Read dataset\n",
    "df = pd.read_csv('diabetes.csv')\n",
    "df.head()"
   ]
  },
  {
   "cell_type": "code",
   "execution_count": 4,
   "metadata": {},
   "outputs": [],
   "source": [
    "# Prepare the dataset\n",
    "X = df.drop('Outcome',axis = 1)\n",
    "y = df.Outcome"
   ]
  },
  {
   "cell_type": "markdown",
   "metadata": {},
   "source": [
    "## Splitting data"
   ]
  },
  {
   "cell_type": "code",
   "execution_count": 5,
   "metadata": {},
   "outputs": [],
   "source": [
    "# Split dataset into training set and test set\n",
    "X_train, X_test, y_train, y_test = \\\n",
    "train_test_split(X, y, test_size=0.3, random_state=1) "
   ]
  },
  {
   "cell_type": "markdown",
   "metadata": {},
   "source": [
    "## Building Decision Tree Model\n"
   ]
  },
  {
   "cell_type": "code",
   "execution_count": 6,
   "metadata": {},
   "outputs": [],
   "source": [
    "# Create Decision Tree classifer object\n",
    "clf = DecisionTreeClassifier()\n",
    "\n",
    "# Train Decision Tree Classifer\n",
    "clf.fit(X_train,y_train)\n",
    "\n",
    "#Predict the response for test dataset\n",
    "y_pred = clf.predict(X_test)"
   ]
  },
  {
   "cell_type": "code",
   "execution_count": null,
   "metadata": {},
   "outputs": [],
   "source": []
  },
  {
   "cell_type": "code",
   "execution_count": 7,
   "metadata": {},
   "outputs": [
    {
     "name": "stdout",
     "output_type": "stream",
     "text": [
      "Accuracy: 0.7012987012987013\n"
     ]
    }
   ],
   "source": [
    "# Model Accuracy, how often is the classifier correct?\n",
    "print(\"Accuracy:\",metrics.accuracy_score(y_test, y_pred))"
   ]
  },
  {
   "cell_type": "markdown",
   "metadata": {},
   "source": [
    "## Entropy"
   ]
  },
  {
   "cell_type": "code",
   "execution_count": 8,
   "metadata": {},
   "outputs": [
    {
     "name": "stdout",
     "output_type": "stream",
     "text": [
      "Accuracy: 0.7705627705627706\n"
     ]
    }
   ],
   "source": [
    "# Create Decision Tree classifer object\n",
    "clf = DecisionTreeClassifier(criterion=\"entropy\", \\\n",
    "                             max_depth=2)\n",
    "\n",
    "# Train Decision Tree Classifer\n",
    "clf.fit(X_train,y_train)\n",
    "\n",
    "#Predict the response for test dataset\n",
    "y_pred = clf.predict(X_test)\n",
    "\n",
    "# Model Accuracy, how often is the classifier correct?\n",
    "print(\"Accuracy:\",metrics.accuracy_score(y_test, y_pred))"
   ]
  },
  {
   "cell_type": "code",
   "execution_count": 9,
   "metadata": {
    "scrolled": true
   },
   "outputs": [
    {
     "data": {
      "text/plain": [
       "[Text(167.4, 181.2, 'X[1] <= 127.5\\nentropy = 0.926\\nsamples = 537\\nvalue = [354, 183]'),\n",
       " Text(83.7, 108.72, 'X[5] <= 26.45\\nentropy = 0.72\\nsamples = 342\\nvalue = [274, 68]'),\n",
       " Text(41.85, 36.23999999999998, 'entropy = 0.201\\nsamples = 96\\nvalue = [93, 3]'),\n",
       " Text(125.55000000000001, 36.23999999999998, 'entropy = 0.833\\nsamples = 246\\nvalue = [181, 65]'),\n",
       " Text(251.10000000000002, 108.72, 'X[5] <= 28.15\\nentropy = 0.977\\nsamples = 195\\nvalue = [80, 115]'),\n",
       " Text(209.25, 36.23999999999998, 'entropy = 0.82\\nsamples = 43\\nvalue = [32, 11]'),\n",
       " Text(292.95, 36.23999999999998, 'entropy = 0.9\\nsamples = 152\\nvalue = [48, 104]')]"
      ]
     },
     "execution_count": 9,
     "metadata": {},
     "output_type": "execute_result"
    },
    {
     "data": {
      "image/png": "[encoded data removed]",
      "text/plain": [
       "<Figure size 432x288 with 1 Axes>"
      ]
     },
     "metadata": {
      "needs_background": "light"
     },
     "output_type": "display_data"
    }
   ],
   "source": [
    "plot_tree(clf) "
   ]
  },
  {
   "cell_type": "code",
   "execution_count": 10,
   "metadata": {},
   "outputs": [],
   "source": [
    "from sklearn.datasets import load_breast_cancer\n",
    "from sklearn.metrics import accuracy_score"
   ]
  },
  {
   "cell_type": "code",
   "execution_count": 14,
   "metadata": {},
   "outputs": [
    {
     "name": "stdout",
     "output_type": "stream",
     "text": [
      "Training accuracy 1.0\n",
      "Test Accuracy 0.8811188811188811\n"
     ]
    }
   ],
   "source": [
    "X,y=load_breast_cancer(return_X_y=True)\n",
    "X_train,X_test,y_train,y_test=\\\n",
    "train_test_split(X,y,random_state=0)\n",
    "clf=DecisionTreeClassifier(random_state=0)\n",
    "clf.fit(X_train,y_train)\n",
    "y_train_predicted=clf.predict(X_train)\n",
    "y_test_predicted=clf.predict(X_test)\n",
    "print(\"Training accuracy\", accuracy_score(y_train,y_train_predicted))\n",
    "print(\"Test Accuracy\", accuracy_score(y_test,y_test_predicted))\n"
   ]
  },
  {
   "cell_type": "code",
   "execution_count": 12,
   "metadata": {},
   "outputs": [
    {
     "data": {
      "text/plain": [
       "[Text(187.32857142857142, 205.35999999999999, 'X[7] <= 0.049\\ngini = 0.468\\nsamples = 426\\nvalue = [159, 267]'),\n",
       " Text(119.57142857142857, 181.2, 'X[23] <= 952.9\\ngini = 0.095\\nsamples = 260\\nvalue = [13, 247]'),\n",
       " Text(79.71428571428572, 157.04, 'X[13] <= 42.19\\ngini = 0.054\\nsamples = 252\\nvalue = [7, 245]'),\n",
       " Text(47.82857142857143, 132.88, 'X[25] <= 0.454\\ngini = 0.032\\nsamples = 247\\nvalue = [4, 243]'),\n",
       " Text(31.885714285714286, 108.72, 'X[21] <= 30.145\\ngini = 0.024\\nsamples = 246\\nvalue = [3, 243]'),\n",
       " Text(15.942857142857143, 84.56, 'gini = 0.0\\nsamples = 215\\nvalue = [0, 215]'),\n",
       " Text(47.82857142857143, 84.56, 'X[14] <= 0.004\\ngini = 0.175\\nsamples = 31\\nvalue = [3, 28]'),\n",
       " Text(31.885714285714286, 60.400000000000006, 'gini = 0.0\\nsamples = 2\\nvalue = [2, 0]'),\n",
       " Text(63.77142857142857, 60.400000000000006, 'X[1] <= 23.2\\ngini = 0.067\\nsamples = 29\\nvalue = [1, 28]'),\n",
       " Text(47.82857142857143, 36.24000000000001, 'X[1] <= 22.385\\ngini = 0.32\\nsamples = 5\\nvalue = [1, 4]'),\n",
       " Text(31.885714285714286, 12.079999999999984, 'gini = 0.0\\nsamples = 4\\nvalue = [0, 4]'),\n",
       " Text(63.77142857142857, 12.079999999999984, 'gini = 0.0\\nsamples = 1\\nvalue = [1, 0]'),\n",
       " Text(79.71428571428572, 36.24000000000001, 'gini = 0.0\\nsamples = 24\\nvalue = [0, 24]'),\n",
       " Text(63.77142857142857, 108.72, 'gini = 0.0\\nsamples = 1\\nvalue = [1, 0]'),\n",
       " Text(111.6, 132.88, 'X[7] <= 0.029\\ngini = 0.48\\nsamples = 5\\nvalue = [3, 2]'),\n",
       " Text(95.65714285714286, 108.72, 'gini = 0.0\\nsamples = 2\\nvalue = [0, 2]'),\n",
       " Text(127.54285714285714, 108.72, 'gini = 0.0\\nsamples = 3\\nvalue = [3, 0]'),\n",
       " Text(159.42857142857144, 157.04, 'X[21] <= 26.005\\ngini = 0.375\\nsamples = 8\\nvalue = [6, 2]'),\n",
       " Text(143.4857142857143, 132.88, 'gini = 0.0\\nsamples = 2\\nvalue = [0, 2]'),\n",
       " Text(175.37142857142857, 132.88, 'gini = 0.0\\nsamples = 6\\nvalue = [6, 0]'),\n",
       " Text(255.0857142857143, 181.2, 'X[23] <= 785.8\\ngini = 0.212\\nsamples = 166\\nvalue = [146, 20]'),\n",
       " Text(223.2, 157.04, 'X[21] <= 23.74\\ngini = 0.491\\nsamples = 30\\nvalue = [13, 17]'),\n",
       " Text(207.25714285714287, 132.88, 'gini = 0.0\\nsamples = 14\\nvalue = [0, 14]'),\n",
       " Text(239.14285714285714, 132.88, 'X[25] <= 0.263\\ngini = 0.305\\nsamples = 16\\nvalue = [13, 3]'),\n",
       " Text(223.2, 108.72, 'gini = 0.0\\nsamples = 3\\nvalue = [0, 3]'),\n",
       " Text(255.0857142857143, 108.72, 'gini = 0.0\\nsamples = 13\\nvalue = [13, 0]'),\n",
       " Text(286.9714285714286, 157.04, 'X[10] <= 0.192\\ngini = 0.043\\nsamples = 136\\nvalue = [133, 3]'),\n",
       " Text(271.0285714285714, 132.88, 'gini = 0.0\\nsamples = 2\\nvalue = [0, 2]'),\n",
       " Text(302.9142857142857, 132.88, 'X[26] <= 0.182\\ngini = 0.015\\nsamples = 134\\nvalue = [133, 1]'),\n",
       " Text(286.9714285714286, 108.72, 'gini = 0.0\\nsamples = 1\\nvalue = [0, 1]'),\n",
       " Text(318.8571428571429, 108.72, 'gini = 0.0\\nsamples = 133\\nvalue = [133, 0]')]"
      ]
     },
     "execution_count": 12,
     "metadata": {},
     "output_type": "execute_result"
    },
    {
     "data": {
      "image/png": "[encoded data removed]",
      "text/plain": [
       "<Figure size 432x288 with 1 Axes>"
      ]
     },
     "metadata": {
      "needs_background": "light"
     },
     "output_type": "display_data"
    }
   ],
   "source": [
    "plot_tree(clf) "
   ]
  },
  {
   "cell_type": "code",
   "execution_count": null,
   "metadata": {},
   "outputs": [],
   "source": []
  }
 ],
 "metadata": {
  "kernelspec": {
   "display_name": "Python 3",
   "language": "python",
   "name": "python3"
  },
  "language_info": {
   "codemirror_mode": {
    "name": "ipython",
    "version": 3
   },
   "file_extension": ".py",
   "mimetype": "text/x-python",
   "name": "python",
   "nbconvert_exporter": "python",
   "pygments_lexer": "ipython3",
   "version": "3.8.5"
  }
 },
 "nbformat": 4,
 "nbformat_minor": 4
}
